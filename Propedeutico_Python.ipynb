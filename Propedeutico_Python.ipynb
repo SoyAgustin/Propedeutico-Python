{
 "cells": [
  {
   "cell_type": "markdown",
   "id": "cb498315",
   "metadata": {},
   "source": [
    "# Agustín de Jeusus Pineda"
   ]
  },
  {
   "cell_type": "markdown",
   "id": "71df830c",
   "metadata": {},
   "source": [
    "## Índice\n",
    "\n",
    "1. <a href='#seccion_10'>Sección 10: datetime </a>\n",
    "\n",
    "2. <a href='#seccion_11'>Sección 11: NumPy</a>\n",
    "\n",
    "    2.1 <a href='#11_1'>Propiedades de los arrays</a>\n",
    "    \n",
    "    2.2 <a href='#11_2'>Operaciones matemáticas básicas</a>\n",
    "    \n",
    "    2.3 <a href='#11_3'>Funciones agregadas</a>\n",
    "    \n",
    "    2.4 <a href='#11_4'>Subsetting, slicing e indexing</a>\n",
    "    \n",
    "    2.5 <a href='#11_5'>Manipulación de arreglos </a>\n",
    "    \n",
    "3. <a href='#seccion_12'>Sección 12: Pandas</a>\n",
    "\n",
    "    3.1 <a href='#12_1'>Visualización</a>\n",
    "    \n",
    "    3.2 <a href='#12_2'>Subsetting, slicing e indexing</a>\n",
    "    \n",
    "    3.3 <a href='#12_3'>Valores vacíos (NaN)</a>\n",
    "    \n",
    "    3.4 <a href='#12_4'>Manejo de archivos</a>\n",
    "    \n",
    "    3.5 <a href='#12_5'>Visualización gráfica</a>\n"
   ]
  },
  {
   "cell_type": "markdown",
   "id": "013526fc",
   "metadata": {},
   "source": [
    "<a id='seccion_10'></a>\n",
    "    \n",
    "# Sección 10: datetime"
   ]
  },
  {
   "cell_type": "code",
   "execution_count": 1,
   "id": "9688a8e5",
   "metadata": {},
   "outputs": [
    {
     "name": "stdout",
     "output_type": "stream",
     "text": [
      "La fecha es 2022-09-10 23:31:24.470767\n"
     ]
    }
   ],
   "source": [
    "#podemos usar el módulo datetime para trabajar con fechas\n",
    "\n",
    "import datetime as dt\n",
    "\n",
    "x=dt.datetime.now()\n",
    "\n",
    "print('La fecha es', x)"
   ]
  },
  {
   "cell_type": "code",
   "execution_count": 2,
   "id": "c7e868f9",
   "metadata": {},
   "outputs": [
    {
     "name": "stdout",
     "output_type": "stream",
     "text": [
      "el año en el que estamos es 2022\n",
      "el día de la semana en el que estamos es Saturday\n",
      "el mes en el que estamos es September\n",
      "el número de día es 10\n",
      "la hora a la que se ejecutó esta celda es 23 : 31 : 24\n"
     ]
    }
   ],
   "source": [
    "#podemos obtener información concreta según la necesitemos\n",
    "\n",
    "print('el año en el que estamos es',x.year)\n",
    "print('el día de la semana en el que estamos es', x.strftime('%A'))\n",
    "print('el mes en el que estamos es',x.strftime('%B'))\n",
    "print('el número de día es',x.strftime('%d'))\n",
    "print('la hora a la que se ejecutó esta celda es', x.strftime('%H : %M : %S'))"
   ]
  },
  {
   "cell_type": "markdown",
   "id": "e5e99b16",
   "metadata": {},
   "source": [
    "<a id='seccion_11'></a>\n",
    "# Sección 11: NumPy"
   ]
  },
  {
   "cell_type": "code",
   "execution_count": 3,
   "id": "29423868",
   "metadata": {},
   "outputs": [],
   "source": [
    "#importamos numpy \n",
    "import numpy as np"
   ]
  },
  {
   "cell_type": "markdown",
   "id": "a1424ec2",
   "metadata": {},
   "source": [
    "<a id='11_1'></a>\n",
    "## 11.1 Propiedades de los arrays"
   ]
  },
  {
   "cell_type": "code",
   "execution_count": 4,
   "id": "8e22c669",
   "metadata": {},
   "outputs": [
    {
     "data": {
      "text/plain": [
       "array([ 0,  1,  2,  3,  4,  5,  6,  7,  8,  9, 10, 11, 12, 13, 14])"
      ]
     },
     "execution_count": 4,
     "metadata": {},
     "output_type": "execute_result"
    }
   ],
   "source": [
    "#creamos diferentes tipos de array \n",
    "a=np.arange(15)\n",
    "a"
   ]
  },
  {
   "cell_type": "code",
   "execution_count": 5,
   "id": "2ae33121",
   "metadata": {},
   "outputs": [
    {
     "data": {
      "text/plain": [
       "array([[ 0,  1,  2,  3,  4],\n",
       "       [ 5,  6,  7,  8,  9],\n",
       "       [10, 11, 12, 13, 14]])"
      ]
     },
     "execution_count": 5,
     "metadata": {},
     "output_type": "execute_result"
    }
   ],
   "source": [
    "#podemos cambiar las dimensiones del arreglo con .reshape(n,m)\n",
    "a=a.reshape(3,5)\n",
    "a"
   ]
  },
  {
   "cell_type": "code",
   "execution_count": 6,
   "id": "689304e3",
   "metadata": {},
   "outputs": [
    {
     "data": {
      "text/plain": [
       "array([[0., 0., 0., 0., 0.],\n",
       "       [0., 0., 0., 0., 0.],\n",
       "       [0., 0., 0., 0., 0.]])"
      ]
     },
     "execution_count": 6,
     "metadata": {},
     "output_type": "execute_result"
    }
   ],
   "source": [
    "#podemos crear arrays con entradas iguales a cero\n",
    "b=np.zeros((3,5))\n",
    "b"
   ]
  },
  {
   "cell_type": "code",
   "execution_count": 7,
   "id": "0a3267b3",
   "metadata": {},
   "outputs": [
    {
     "data": {
      "text/plain": [
       "array([[[1, 1, 1, 1],\n",
       "        [1, 1, 1, 1],\n",
       "        [1, 1, 1, 1]],\n",
       "\n",
       "       [[1, 1, 1, 1],\n",
       "        [1, 1, 1, 1],\n",
       "        [1, 1, 1, 1]]], dtype=int16)"
      ]
     },
     "execution_count": 7,
     "metadata": {},
     "output_type": "execute_result"
    }
   ],
   "source": [
    "#también podemos crear arrays solo con eentradas iguales a 1\n",
    "c=np.ones((2,3,4),dtype=np.int16) #también podemos definir el tipo de dato a entero 16 bits en este caso\n",
    "c"
   ]
  },
  {
   "cell_type": "code",
   "execution_count": 8,
   "id": "36f3cdb9",
   "metadata": {},
   "outputs": [
    {
     "name": "stdout",
     "output_type": "stream",
     "text": [
      "la longitud del arreglo b es  3\n",
      "\n",
      "\n",
      "la dimensión del arreglo c es  3\n",
      "\n",
      "\n",
      "el numero de elemento del arreglo a es  15\n",
      "\n",
      "\n",
      "el tipo de elementos del arreglo a es  int32\n",
      "\n",
      "\n",
      "el nombre del tipo de dato del arreglo a es  int32\n",
      "\n",
      "\n",
      "el array c con tipo flotante es \n",
      " [[[1. 1. 1. 1.]\n",
      "  [1. 1. 1. 1.]\n",
      "  [1. 1. 1. 1.]]\n",
      "\n",
      " [[1. 1. 1. 1.]\n",
      "  [1. 1. 1. 1.]\n",
      "  [1. 1. 1. 1.]]]\n",
      "este array tiene el tipo de datos  float64\n"
     ]
    }
   ],
   "source": [
    "#podemos extraer información de los arreglos mediante \n",
    "#las siguientes instrucciones\n",
    "\n",
    "print('la longitud del arreglo b es ',len(b)) #longitud como lista\n",
    "print('\\n') #salto de línea\n",
    "print('la dimensión del arreglo c es ',c.ndim) #dimensión del arreglo\n",
    "print('\\n')\n",
    "print('el numero de elemento del arreglo a es ',a.size) #cantidad total de elementos\n",
    "print('\\n')\n",
    "print('el tipo de elementos del arreglo a es ',a.dtype) #devuelve el tipo pero no como str, sino como numpy.dtype\n",
    "print('\\n')\n",
    "print('el nombre del tipo de dato del arreglo a es ', a.dtype.name) #devuelve el tipo de dato como str\n",
    "print('\\n')\n",
    "#Se puede cambiar el tipo de dato de un array, por ejemplo el array c tiene \n",
    "#elememtos tipo int16 podemos cambiarlo a float64\n",
    "print('el array c con tipo flotante es \\n',c.astype(float))\n",
    "print('este array tiene el tipo de datos ',c.astype(float).dtype.name)"
   ]
  },
  {
   "cell_type": "markdown",
   "id": "9db46151",
   "metadata": {},
   "source": [
    "<a id='11_2'></a>\n",
    "## 11.2 Operaciones matemáticas básicas"
   ]
  },
  {
   "cell_type": "code",
   "execution_count": 9,
   "id": "a413f68b",
   "metadata": {},
   "outputs": [],
   "source": [
    "#las operaciones básicas son la suma, resta, multiplicación y división\n",
    "#NumPy va a efectuar estas operaciones entrada por entrada\n",
    "#no va a hacer el producto matricial como es usual en algebra lineal\n",
    "\n",
    "#Declaramos los arreglos siguientes\n",
    "a = np.arange(15).reshape(3, 5) # Create array with range 0-14 in 3 by 5 dimension\n",
    "b = np.zeros((3,5)) # Create array with zeroes\n",
    "c = np.ones( (2,3,4), dtype=np.int16 ) # Createarray with ones and defining data types\n",
    "d = np.ones((3,5))"
   ]
  },
  {
   "cell_type": "code",
   "execution_count": 10,
   "id": "63625e51",
   "metadata": {},
   "outputs": [
    {
     "name": "stdout",
     "output_type": "stream",
     "text": [
      "a=\n",
      "  [[ 0  1  2  3  4]\n",
      " [ 5  6  7  8  9]\n",
      " [10 11 12 13 14]]\n",
      "\n",
      "\n",
      "b=\n",
      " [[0. 0. 0. 0. 0.]\n",
      " [0. 0. 0. 0. 0.]\n",
      " [0. 0. 0. 0. 0.]]\n",
      "\n",
      "\n",
      "c=\n",
      " [[[1 1 1 1]\n",
      "  [1 1 1 1]\n",
      "  [1 1 1 1]]\n",
      "\n",
      " [[1 1 1 1]\n",
      "  [1 1 1 1]\n",
      "  [1 1 1 1]]]\n",
      "\n",
      "\n",
      "d=\n",
      " [[1. 1. 1. 1. 1.]\n",
      " [1. 1. 1. 1. 1.]\n",
      " [1. 1. 1. 1. 1.]]\n"
     ]
    }
   ],
   "source": [
    "#Los visualizamos\n",
    "print('a=\\n ',a)\n",
    "print('\\n')\n",
    "print('b=\\n',b)\n",
    "print('\\n')\n",
    "print('c=\\n',c)\n",
    "print('\\n')\n",
    "print('d=\\n',d)"
   ]
  },
  {
   "cell_type": "code",
   "execution_count": 11,
   "id": "ccef9017",
   "metadata": {},
   "outputs": [
    {
     "name": "stdout",
     "output_type": "stream",
     "text": [
      "La suma de a y b es \n",
      " [[ 0.  1.  2.  3.  4.]\n",
      " [ 5.  6.  7.  8.  9.]\n",
      " [10. 11. 12. 13. 14.]]\n",
      "\n",
      "\n",
      "La resta de a y b es\n",
      " [[ 0.  1.  2.  3.  4.]\n",
      " [ 5.  6.  7.  8.  9.]\n",
      " [10. 11. 12. 13. 14.]]\n",
      "\n",
      "\n",
      "La multiplicación de a y d es \n",
      " [[ 0.  1.  2.  3.  4.]\n",
      " [ 5.  6.  7.  8.  9.]\n",
      " [10. 11. 12. 13. 14.]]\n",
      "\n",
      "\n",
      "La división de a y d es \n",
      " [[ 0.  1.  2.  3.  4.]\n",
      " [ 5.  6.  7.  8.  9.]\n",
      " [10. 11. 12. 13. 14.]]\n",
      "\n",
      "\n"
     ]
    }
   ],
   "source": [
    "print('La suma de a y b es \\n',np.add(a,b))\n",
    "print('\\n')\n",
    "print('La resta de a y b es\\n',np.subtract(a,b))\n",
    "print('\\n')\n",
    "print('La multiplicación de a y d es \\n',np.multiply(a,d))\n",
    "print('\\n')\n",
    "print('La división de a y d es \\n',np.divide(a,d))\n",
    "print('\\n')"
   ]
  },
  {
   "cell_type": "code",
   "execution_count": 12,
   "id": "ae120345",
   "metadata": {},
   "outputs": [
    {
     "name": "stdout",
     "output_type": "stream",
     "text": [
      "¿El arreglo a es igual al arreglo b? :  False\n",
      "¿El arreglo a es igual al arreglo a/d? :  True\n"
     ]
    }
   ],
   "source": [
    "#tambén podemos hacer comparaciones entre arreglos (op. booleanas)\n",
    "print('¿El arreglo a es igual al arreglo b? : ', np.array_equal(a,b))\n",
    "print('¿El arreglo a es igual al arreglo a/d? : ',np.array_equal(a,np.divide(a,d)))\n",
    "#En este último ejemplo vemos que llega a que son iguales aún cuando los tipos de datos\n",
    "#son diferentes, uno es de tipo entero y el otro flotante."
   ]
  },
  {
   "cell_type": "markdown",
   "id": "4ea6d10c",
   "metadata": {},
   "source": [
    "<a id='11_3'></a>\n",
    "## 11.3 Funciones agregadas"
   ]
  },
  {
   "cell_type": "code",
   "execution_count": 13,
   "id": "8efa0ae6",
   "metadata": {},
   "outputs": [
    {
     "name": "stdout",
     "output_type": "stream",
     "text": [
      "a=\n",
      "  [[ 0  1  2  3  4]\n",
      " [ 5  6  7  8  9]\n",
      " [10 11 12 13 14]]\n"
     ]
    }
   ],
   "source": [
    "#Trabajamos con el arreglo a de la subsección anterior.\n",
    "#Volvemos a visualizarlo.\n",
    "\n",
    "print('a=\\n ',a)"
   ]
  },
  {
   "cell_type": "code",
   "execution_count": 14,
   "id": "c670d35d",
   "metadata": {},
   "outputs": [
    {
     "name": "stdout",
     "output_type": "stream",
     "text": [
      "La suma de los elementos del array a es  105\n",
      "\n",
      "\n",
      "El valor mínimo en todo el array a es  0\n",
      "\n",
      "\n",
      "El promedio de todos los valores del arreglo a es  7.0\n",
      "\n",
      "\n",
      "El valor de la desviación estándar de todos los valores de a es  4.320493798938574\n",
      "\n",
      "\n",
      "Los valores máximos de fila son  [10 11 12 13 14]\n",
      "\n",
      "\n",
      "Los valores mínimos de columna son  [ 0  5 10]\n",
      "\n",
      "\n"
     ]
    }
   ],
   "source": [
    "print('La suma de los elementos del array a es ',a.sum())\n",
    "print('\\n')\n",
    "print('El valor mínimo en todo el array a es ',a.min())\n",
    "print('\\n')\n",
    "print('El promedio de todos los valores del arreglo a es ',a.mean())\n",
    "print('\\n')\n",
    "print('El valor de la desviación estándar de todos los valores de a es ', a.std())\n",
    "print('\\n')\n",
    "print('Los valores máximos de fila son ',a.max(axis=0))\n",
    "print('\\n')\n",
    "print('Los valores mínimos de columna son ',a.min(axis=1))\n",
    "print('\\n')\n"
   ]
  },
  {
   "cell_type": "markdown",
   "id": "6e96ec66",
   "metadata": {},
   "source": [
    "<a id='11_4'></a>\n",
    "## 11.4 Subsetting, slicing e indexing"
   ]
  },
  {
   "cell_type": "code",
   "execution_count": 15,
   "id": "2a260730",
   "metadata": {},
   "outputs": [
    {
     "name": "stdout",
     "output_type": "stream",
     "text": [
      "a=\n",
      "  [[ 0  1  2  3  4]\n",
      " [ 5  6  7  8  9]\n",
      " [10 11 12 13 14]]\n"
     ]
    }
   ],
   "source": [
    "#volvemos a usar el arreglo a\n",
    "print('a=\\n ',a)"
   ]
  },
  {
   "cell_type": "code",
   "execution_count": 16,
   "id": "8336f3d0",
   "metadata": {},
   "outputs": [
    {
     "data": {
      "text/plain": [
       "7"
      ]
     },
     "execution_count": 16,
     "metadata": {},
     "output_type": "execute_result"
    }
   ],
   "source": [
    "#podemos seleccionar elementos individuales en una array\n",
    "#por ejemplo podemos seleccionar el elemento que se encuentra\n",
    "#en la segunda fila y tercera columna \n",
    "a[1,2]"
   ]
  },
  {
   "cell_type": "code",
   "execution_count": 17,
   "id": "8e8db273",
   "metadata": {},
   "outputs": [
    {
     "data": {
      "text/plain": [
       "array([[0, 1, 2, 3, 4],\n",
       "       [5, 6, 7, 8, 9]])"
      ]
     },
     "execution_count": 17,
     "metadata": {},
     "output_type": "execute_result"
    }
   ],
   "source": [
    "#Pensando en el arreglo como una lista en donde los elementos son las filas\n",
    "#podemos 'extraer' de la fila 1 a la fila 1 de la siguiente forma:\n",
    "a[0:2]"
   ]
  },
  {
   "cell_type": "code",
   "execution_count": 18,
   "id": "7146ec12",
   "metadata": {},
   "outputs": [
    {
     "name": "stdout",
     "output_type": "stream",
     "text": [
      "[ 0  5 10]\n",
      "[ 1  6 11]\n"
     ]
    }
   ],
   "source": [
    "#Podemos aplicar el mismo principio  a las columnas,\n",
    "#en este caso vamos a extraer la columna 1 y 2 \n",
    "\n",
    "print(a[:,0])\n",
    "print(a[:,1])"
   ]
  },
  {
   "cell_type": "code",
   "execution_count": 19,
   "id": "a6c5c58b",
   "metadata": {},
   "outputs": [
    {
     "name": "stdout",
     "output_type": "stream",
     "text": [
      "Los numeros mayores a 6 en el array a son: \n",
      " [ 7  8  9 10 11 12 13 14]\n",
      "\n",
      "\n",
      "Los números mayores a 13 en el array a son: \n",
      " [14]\n"
     ]
    }
   ],
   "source": [
    "#También podemos aplicar condicionales, \n",
    "#por ejemplo filtrar los datos que son mayores a algún valor en todo el array\n",
    "print('Los numeros mayores a 6 en el array a son: \\n',a[a>6]) \n",
    "print('\\n')\n",
    "print('Los números mayores a 13 en el array a son: \\n',a[a>13])\n"
   ]
  },
  {
   "cell_type": "markdown",
   "id": "b93d7a03",
   "metadata": {},
   "source": [
    "<a id='11_5'></a>\n",
    "## 11.5 Manipulación de arreglos "
   ]
  },
  {
   "cell_type": "code",
   "execution_count": 20,
   "id": "89596628",
   "metadata": {},
   "outputs": [
    {
     "name": "stdout",
     "output_type": "stream",
     "text": [
      "a= \n",
      " [[ 0  1  2  3  4]\n",
      " [ 5  6  7  8  9]\n",
      " [10 11 12 13 14]]\n",
      "d= \n",
      " [[1. 1. 1. 1. 1.]\n",
      " [1. 1. 1. 1. 1.]\n",
      " [1. 1. 1. 1. 1.]]\n"
     ]
    }
   ],
   "source": [
    "#Trabajando nuevamente con el arreglo a y agregamos el arreglo b\n",
    "print('a= \\n',a)\n",
    "print('d= \\n',d)\n"
   ]
  },
  {
   "cell_type": "code",
   "execution_count": 21,
   "id": "2600d883",
   "metadata": {},
   "outputs": [
    {
     "name": "stdout",
     "output_type": "stream",
     "text": [
      "El arreglo a transpuesto es: \n",
      "  [[ 0  5 10]\n",
      " [ 1  6 11]\n",
      " [ 2  7 12]\n",
      " [ 3  8 13]\n",
      " [ 4  9 14]]\n",
      "\n",
      "\n",
      "El arreglo a aplanado es: \n",
      " [ 0  1  2  3  4  5  6  7  8  9 10 11 12 13 14]\n",
      "\n",
      "\n",
      "El arreglo a, cambiando las dimensiones es: \n",
      " [[ 0  1  2  3  4]\n",
      " [ 5  6  7  8  9]\n",
      " [10 11 12 13 14]]\n",
      "\n",
      "\n",
      "Los elementos combinados de a y d resultan en el siguiente array plano: \n",
      "  [ 0.  1.  2.  3.  4.  5.  6.  7.  8.  9. 10. 11. 12. 13. 14.  1.  1.  1.\n",
      "  1.  1.  1.  1.  1.  1.  1.  1.  1.  1.  1.  1.]\n",
      "\n",
      "\n",
      "Podemos combinar los elementos de manera que se mantiene la forma por renglones\n",
      " [[ 0.  1.  2.  3.  4.]\n",
      " [ 5.  6.  7.  8.  9.]\n",
      " [10. 11. 12. 13. 14.]\n",
      " [ 1.  1.  1.  1.  1.]\n",
      " [ 1.  1.  1.  1.  1.]\n",
      " [ 1.  1.  1.  1.  1.]]\n",
      "\n",
      "\n",
      "Podemos combinar los elementos de manera que se mantiene la forma por renglones \n",
      " [[ 0.  1.  2.  3.  4.  1.  1.  1.  1.  1.]\n",
      " [ 5.  6.  7.  8.  9.  1.  1.  1.  1.  1.]\n",
      " [10. 11. 12. 13. 14.  1.  1.  1.  1.  1.]]\n",
      "\n",
      "\n",
      "Se puede separar los arreglos en arreglos horizontales (sacamos los renglones) \n",
      " [array([[0, 1, 2, 3, 4]]), array([[5, 6, 7, 8, 9]]), array([[10, 11, 12, 13, 14]])]\n",
      "\n",
      "\n",
      "Se puede separar los arreglos en arreglos verticales (sacamos las columnas) \n",
      " [array([[ 0],\n",
      "       [ 5],\n",
      "       [10]]), array([[ 1],\n",
      "       [ 6],\n",
      "       [11]]), array([[ 2],\n",
      "       [ 7],\n",
      "       [12]]), array([[ 3],\n",
      "       [ 8],\n",
      "       [13]]), array([[ 4],\n",
      "       [ 9],\n",
      "       [14]])]\n"
     ]
    }
   ],
   "source": [
    "print('El arreglo a transpuesto es: \\n ',np.transpose(a))\n",
    "print('\\n')\n",
    "print('El arreglo a aplanado es: \\n',np.ravel(a))\n",
    "print('\\n')\n",
    "print('El arreglo a, cambiando las dimensiones es: \\n',a.reshape((3,5)))\n",
    "print('\\n')\n",
    "print('Los elementos combinados de a y d resultan en el siguiente array plano: \\n ',np.append(a,d))\n",
    "print('\\n')\n",
    "print('Podemos combinar los elementos de manera que se mantiene la forma por renglones\\n',np.concatenate((a,d),axis=0))\n",
    "print('\\n')\n",
    "print('Podemos combinar los elementos de manera que se mantiene la forma por renglones \\n',np.concatenate((a,d),axis=1)) \n",
    "print('\\n')\n",
    "print('Se puede separar los arreglos en arreglos horizontales (sacamos los renglones) \\n',np.vsplit(a,3)) #el segundo argumento es el número de separaciones que queremos\n",
    "print('\\n')\n",
    "print('Se puede separar los arreglos en arreglos verticales (sacamos las columnas) \\n',np.hsplit(a,5)) #el segundo argumento es el número de separaciones que queremos"
   ]
  },
  {
   "cell_type": "markdown",
   "id": "e4582d09",
   "metadata": {},
   "source": [
    "<a id='seccion_12'></a>\n",
    "## Sección 12: pandas"
   ]
  },
  {
   "cell_type": "code",
   "execution_count": 22,
   "id": "de662059",
   "metadata": {},
   "outputs": [],
   "source": [
    "#importamos los módulos NumPy y Pandas\n",
    "import numpy as np\n",
    "import pandas as pd"
   ]
  },
  {
   "cell_type": "code",
   "execution_count": 23,
   "id": "50a373f3",
   "metadata": {},
   "outputs": [
    {
     "data": {
      "text/html": [
       "<div>\n",
       "<style scoped>\n",
       "    .dataframe tbody tr th:only-of-type {\n",
       "        vertical-align: middle;\n",
       "    }\n",
       "\n",
       "    .dataframe tbody tr th {\n",
       "        vertical-align: top;\n",
       "    }\n",
       "\n",
       "    .dataframe thead th {\n",
       "        text-align: right;\n",
       "    }\n",
       "</style>\n",
       "<table border=\"1\" class=\"dataframe\">\n",
       "  <thead>\n",
       "    <tr style=\"text-align: right;\">\n",
       "      <th></th>\n",
       "      <th>num_legs</th>\n",
       "      <th>num_wings</th>\n",
       "      <th>num_specimen_seen</th>\n",
       "    </tr>\n",
       "  </thead>\n",
       "  <tbody>\n",
       "    <tr>\n",
       "      <th>falcon</th>\n",
       "      <td>2.0</td>\n",
       "      <td>2</td>\n",
       "      <td>10.0</td>\n",
       "    </tr>\n",
       "    <tr>\n",
       "      <th>dog</th>\n",
       "      <td>4.0</td>\n",
       "      <td>0</td>\n",
       "      <td>NaN</td>\n",
       "    </tr>\n",
       "    <tr>\n",
       "      <th>spider</th>\n",
       "      <td>NaN</td>\n",
       "      <td>0</td>\n",
       "      <td>1.0</td>\n",
       "    </tr>\n",
       "    <tr>\n",
       "      <th>fish</th>\n",
       "      <td>0.0</td>\n",
       "      <td>0</td>\n",
       "      <td>8.0</td>\n",
       "    </tr>\n",
       "  </tbody>\n",
       "</table>\n",
       "</div>"
      ],
      "text/plain": [
       "        num_legs  num_wings  num_specimen_seen\n",
       "falcon       2.0          2               10.0\n",
       "dog          4.0          0                NaN\n",
       "spider       NaN          0                1.0\n",
       "fish         0.0          0                8.0"
      ]
     },
     "execution_count": 23,
     "metadata": {},
     "output_type": "execute_result"
    }
   ],
   "source": [
    "#Podemos hacer dataframes con pandas, por ejemplo:\n",
    "df = pd.DataFrame({'num_legs': [2, 4, np.nan, 0],\n",
    "                   'num_wings': [2, 0, 0, 0],\n",
    "                   'num_specimen_seen': [10, np.nan, 1, 8]},\n",
    "                   index=['falcon', 'dog', 'spider', 'fish'])\n",
    "df"
   ]
  },
  {
   "cell_type": "code",
   "execution_count": 24,
   "id": "6f928940",
   "metadata": {},
   "outputs": [
    {
     "name": "stdout",
     "output_type": "stream",
     "text": [
      "df1 = \n",
      " DatetimeIndex(['2022-09-10', '2022-09-11', '2022-09-12', '2022-09-13',\n",
      "               '2022-09-14', '2022-09-15'],\n",
      "              dtype='datetime64[ns]', freq='D')\n",
      "Es un arreglo de 6 filas y 1 columna\n"
     ]
    }
   ],
   "source": [
    "#También podemos hacer un dataframe en donde los índices sean un rango de fechas\n",
    "df1=pd.date_range('20220910',periods=6)\n",
    "print('df1 = \\n',df1)\n",
    "print('Es un arreglo de {} filas y 1 columna'.format(df1.shape[0]))"
   ]
  },
  {
   "cell_type": "code",
   "execution_count": 25,
   "id": "ca3f061f",
   "metadata": {},
   "outputs": [
    {
     "data": {
      "text/plain": [
       "array([[-0.6328506 , -0.95783384, -0.71831767,  0.04715759],\n",
       "       [-1.36498467, -0.7770876 ,  1.13451873,  0.71329354],\n",
       "       [-0.86466427, -1.54628834, -0.69525957, -0.34393063],\n",
       "       [ 0.40175368,  0.77013249,  0.862895  , -0.40341051],\n",
       "       [ 1.37842945, -0.41594523,  1.48362983,  0.47088156],\n",
       "       [ 0.18559664,  1.88143547,  0.0394377 , -0.86168521]])"
      ]
     },
     "execution_count": 25,
     "metadata": {},
     "output_type": "execute_result"
    }
   ],
   "source": [
    "#podemos hacer que estas fechas sean los índices del siguiente dataframe de números aleatorios\n",
    "x=np.random.randn(6,4) # Es un arreglo de 6 filas y 4 columnas\n",
    "x"
   ]
  },
  {
   "cell_type": "code",
   "execution_count": 26,
   "id": "6b3aea16",
   "metadata": {},
   "outputs": [
    {
     "data": {
      "text/html": [
       "<div>\n",
       "<style scoped>\n",
       "    .dataframe tbody tr th:only-of-type {\n",
       "        vertical-align: middle;\n",
       "    }\n",
       "\n",
       "    .dataframe tbody tr th {\n",
       "        vertical-align: top;\n",
       "    }\n",
       "\n",
       "    .dataframe thead th {\n",
       "        text-align: right;\n",
       "    }\n",
       "</style>\n",
       "<table border=\"1\" class=\"dataframe\">\n",
       "  <thead>\n",
       "    <tr style=\"text-align: right;\">\n",
       "      <th></th>\n",
       "      <th>A</th>\n",
       "      <th>B</th>\n",
       "      <th>C</th>\n",
       "      <th>D</th>\n",
       "    </tr>\n",
       "  </thead>\n",
       "  <tbody>\n",
       "    <tr>\n",
       "      <th>2022-09-10</th>\n",
       "      <td>-0.632851</td>\n",
       "      <td>-0.957834</td>\n",
       "      <td>-0.718318</td>\n",
       "      <td>0.047158</td>\n",
       "    </tr>\n",
       "    <tr>\n",
       "      <th>2022-09-11</th>\n",
       "      <td>-1.364985</td>\n",
       "      <td>-0.777088</td>\n",
       "      <td>1.134519</td>\n",
       "      <td>0.713294</td>\n",
       "    </tr>\n",
       "    <tr>\n",
       "      <th>2022-09-12</th>\n",
       "      <td>-0.864664</td>\n",
       "      <td>-1.546288</td>\n",
       "      <td>-0.695260</td>\n",
       "      <td>-0.343931</td>\n",
       "    </tr>\n",
       "    <tr>\n",
       "      <th>2022-09-13</th>\n",
       "      <td>0.401754</td>\n",
       "      <td>0.770132</td>\n",
       "      <td>0.862895</td>\n",
       "      <td>-0.403411</td>\n",
       "    </tr>\n",
       "    <tr>\n",
       "      <th>2022-09-14</th>\n",
       "      <td>1.378429</td>\n",
       "      <td>-0.415945</td>\n",
       "      <td>1.483630</td>\n",
       "      <td>0.470882</td>\n",
       "    </tr>\n",
       "    <tr>\n",
       "      <th>2022-09-15</th>\n",
       "      <td>0.185597</td>\n",
       "      <td>1.881435</td>\n",
       "      <td>0.039438</td>\n",
       "      <td>-0.861685</td>\n",
       "    </tr>\n",
       "  </tbody>\n",
       "</table>\n",
       "</div>"
      ],
      "text/plain": [
       "                   A         B         C         D\n",
       "2022-09-10 -0.632851 -0.957834 -0.718318  0.047158\n",
       "2022-09-11 -1.364985 -0.777088  1.134519  0.713294\n",
       "2022-09-12 -0.864664 -1.546288 -0.695260 -0.343931\n",
       "2022-09-13  0.401754  0.770132  0.862895 -0.403411\n",
       "2022-09-14  1.378429 -0.415945  1.483630  0.470882\n",
       "2022-09-15  0.185597  1.881435  0.039438 -0.861685"
      ]
     },
     "execution_count": 26,
     "metadata": {},
     "output_type": "execute_result"
    }
   ],
   "source": [
    "#ahora hacemos un dataframe con pandas\n",
    "df2=pd.DataFrame(x,index=df1,columns=['A','B','C','D']) \n",
    "#x- datos del dataframe\n",
    "#index - nombre de los índices\n",
    "#columns - nombre de las columnas, en este caso es equivalente a list('ABCD')\n",
    "df2"
   ]
  },
  {
   "cell_type": "markdown",
   "id": "1748c7f7",
   "metadata": {},
   "source": [
    "<a id='12_1'></a>\n",
    "## 12.1 Visualización "
   ]
  },
  {
   "cell_type": "code",
   "execution_count": 27,
   "id": "dc20266e",
   "metadata": {},
   "outputs": [
    {
     "name": "stdout",
     "output_type": "stream",
     "text": [
      "Las primeras 2 filas del df: \n",
      "                    A         B         C         D\n",
      "2022-09-10 -0.632851 -0.957834 -0.718318  0.047158\n",
      "2022-09-11 -1.364985 -0.777088  1.134519  0.713294\n",
      "\n",
      "\n",
      "Las últimas 2 filas del df: \n",
      "                    A         B         C         D\n",
      "2022-09-14  1.378429 -0.415945  1.483630  0.470882\n",
      "2022-09-15  0.185597  1.881435  0.039438 -0.861685\n",
      "\n",
      "\n",
      "Los nombres de los índices del df: \n",
      " DatetimeIndex(['2022-09-10', '2022-09-11', '2022-09-12', '2022-09-13',\n",
      "               '2022-09-14', '2022-09-15'],\n",
      "              dtype='datetime64[ns]', freq='D')\n",
      "\n",
      "\n",
      "El tipo de datos por columnas en el df son: \n",
      "  A    float64\n",
      "B    float64\n",
      "C    float64\n",
      "D    float64\n",
      "dtype: object\n",
      "\n",
      "\n",
      "Un análisis rápido estadístico del df: \n",
      "               A         B         C         D\n",
      "count  6.000000  6.000000  6.000000  6.000000\n",
      "mean  -0.149453 -0.174265  0.351151 -0.062949\n",
      "std    0.997319  1.267756  0.948046  0.588642\n",
      "min   -1.364985 -1.546288 -0.718318 -0.861685\n",
      "25%   -0.806711 -0.912647 -0.511585 -0.388541\n",
      "50%   -0.223627 -0.596516  0.451166 -0.148387\n",
      "75%    0.347714  0.473613  1.066613  0.364951\n",
      "max    1.378429  1.881435  1.483630  0.713294\n"
     ]
    }
   ],
   "source": [
    "#Trabajando con el df anterior\n",
    "\n",
    "print('Las primeras 2 filas del df: \\n',df2.head(2))\n",
    "print('\\n')\n",
    "print('Las últimas 2 filas del df: \\n',df2.tail(2))\n",
    "print('\\n')\n",
    "print('Los nombres de los índices del df: \\n',df2.index)\n",
    "print('\\n')\n",
    "print('El tipo de datos por columnas en el df son: \\n ',df2.dtypes)\n",
    "print('\\n')\n",
    "print('Un análisis rápido estadístico del df: \\n',df2.describe())"
   ]
  },
  {
   "cell_type": "markdown",
   "id": "05098880",
   "metadata": {},
   "source": [
    "<a id='12_2'></a>\n",
    "## 12.2 Subsetting, slicing e indexing"
   ]
  },
  {
   "cell_type": "code",
   "execution_count": 28,
   "id": "f830fa43",
   "metadata": {},
   "outputs": [
    {
     "data": {
      "text/html": [
       "<div>\n",
       "<style scoped>\n",
       "    .dataframe tbody tr th:only-of-type {\n",
       "        vertical-align: middle;\n",
       "    }\n",
       "\n",
       "    .dataframe tbody tr th {\n",
       "        vertical-align: top;\n",
       "    }\n",
       "\n",
       "    .dataframe thead th {\n",
       "        text-align: right;\n",
       "    }\n",
       "</style>\n",
       "<table border=\"1\" class=\"dataframe\">\n",
       "  <thead>\n",
       "    <tr style=\"text-align: right;\">\n",
       "      <th></th>\n",
       "      <th>A</th>\n",
       "      <th>B</th>\n",
       "      <th>C</th>\n",
       "      <th>D</th>\n",
       "    </tr>\n",
       "  </thead>\n",
       "  <tbody>\n",
       "    <tr>\n",
       "      <th>2022-09-10</th>\n",
       "      <td>-0.632851</td>\n",
       "      <td>-0.957834</td>\n",
       "      <td>-0.718318</td>\n",
       "      <td>0.047158</td>\n",
       "    </tr>\n",
       "    <tr>\n",
       "      <th>2022-09-11</th>\n",
       "      <td>-1.364985</td>\n",
       "      <td>-0.777088</td>\n",
       "      <td>1.134519</td>\n",
       "      <td>0.713294</td>\n",
       "    </tr>\n",
       "    <tr>\n",
       "      <th>2022-09-12</th>\n",
       "      <td>-0.864664</td>\n",
       "      <td>-1.546288</td>\n",
       "      <td>-0.695260</td>\n",
       "      <td>-0.343931</td>\n",
       "    </tr>\n",
       "    <tr>\n",
       "      <th>2022-09-13</th>\n",
       "      <td>0.401754</td>\n",
       "      <td>0.770132</td>\n",
       "      <td>0.862895</td>\n",
       "      <td>-0.403411</td>\n",
       "    </tr>\n",
       "    <tr>\n",
       "      <th>2022-09-14</th>\n",
       "      <td>1.378429</td>\n",
       "      <td>-0.415945</td>\n",
       "      <td>1.483630</td>\n",
       "      <td>0.470882</td>\n",
       "    </tr>\n",
       "    <tr>\n",
       "      <th>2022-09-15</th>\n",
       "      <td>0.185597</td>\n",
       "      <td>1.881435</td>\n",
       "      <td>0.039438</td>\n",
       "      <td>-0.861685</td>\n",
       "    </tr>\n",
       "  </tbody>\n",
       "</table>\n",
       "</div>"
      ],
      "text/plain": [
       "                   A         B         C         D\n",
       "2022-09-10 -0.632851 -0.957834 -0.718318  0.047158\n",
       "2022-09-11 -1.364985 -0.777088  1.134519  0.713294\n",
       "2022-09-12 -0.864664 -1.546288 -0.695260 -0.343931\n",
       "2022-09-13  0.401754  0.770132  0.862895 -0.403411\n",
       "2022-09-14  1.378429 -0.415945  1.483630  0.470882\n",
       "2022-09-15  0.185597  1.881435  0.039438 -0.861685"
      ]
     },
     "execution_count": 28,
     "metadata": {},
     "output_type": "execute_result"
    }
   ],
   "source": [
    "#Trabajando nuevamente con el df2\n",
    "df2"
   ]
  },
  {
   "cell_type": "code",
   "execution_count": 29,
   "id": "1a695e6a",
   "metadata": {},
   "outputs": [
    {
     "name": "stdout",
     "output_type": "stream",
     "text": [
      "El df transpuesto es: \n",
      "    2022-09-10  2022-09-11  2022-09-12  2022-09-13  2022-09-14  2022-09-15\n",
      "A   -0.632851   -1.364985   -0.864664    0.401754    1.378429    0.185597\n",
      "B   -0.957834   -0.777088   -1.546288    0.770132   -0.415945    1.881435\n",
      "C   -0.718318    1.134519   -0.695260    0.862895    1.483630    0.039438\n",
      "D    0.047158    0.713294   -0.343931   -0.403411    0.470882   -0.861685\n"
     ]
    }
   ],
   "source": [
    "#parecido a como funciona en NumPy\n",
    "print('El df transpuesto es: \\n',df2.T)"
   ]
  },
  {
   "cell_type": "code",
   "execution_count": 30,
   "id": "cb5bf406",
   "metadata": {},
   "outputs": [
    {
     "name": "stdout",
     "output_type": "stream",
     "text": [
      "El df ordenado por columna es: \n",
      "                    D         C         B         A\n",
      "2022-09-10  0.047158 -0.718318 -0.957834 -0.632851\n",
      "2022-09-11  0.713294  1.134519 -0.777088 -1.364985\n",
      "2022-09-12 -0.343931 -0.695260 -1.546288 -0.864664\n",
      "2022-09-13 -0.403411  0.862895  0.770132  0.401754\n",
      "2022-09-14  0.470882  1.483630 -0.415945  1.378429\n",
      "2022-09-15 -0.861685  0.039438  1.881435  0.185597\n"
     ]
    }
   ],
   "source": [
    "print('El df ordenado por columna es: \\n',df2.sort_index(axis=1,ascending=False))\n",
    "#axis- eje, 0=filas , 1=columnas\n",
    "#ascending- de forma ascendente, 1= ascendente, 0= descendente"
   ]
  },
  {
   "cell_type": "code",
   "execution_count": 31,
   "id": "d4906336",
   "metadata": {},
   "outputs": [
    {
     "name": "stdout",
     "output_type": "stream",
     "text": [
      "Valores del df ordenados respecto al orden en la columna B: \n",
      "                    A         B         C         D\n",
      "2022-09-12 -0.864664 -1.546288 -0.695260 -0.343931\n",
      "2022-09-10 -0.632851 -0.957834 -0.718318  0.047158\n",
      "2022-09-11 -1.364985 -0.777088  1.134519  0.713294\n",
      "2022-09-14  1.378429 -0.415945  1.483630  0.470882\n",
      "2022-09-13  0.401754  0.770132  0.862895 -0.403411\n",
      "2022-09-15  0.185597  1.881435  0.039438 -0.861685\n"
     ]
    }
   ],
   "source": [
    "print('Valores del df ordenados respecto al orden en la columna B: \\n',df2.sort_values(by='B'))"
   ]
  },
  {
   "cell_type": "code",
   "execution_count": 32,
   "id": "53f9441f",
   "metadata": {},
   "outputs": [
    {
     "name": "stdout",
     "output_type": "stream",
     "text": [
      "La columna A del df es: \n",
      " 2022-09-10   -0.632851\n",
      "2022-09-11   -1.364985\n",
      "2022-09-12   -0.864664\n",
      "2022-09-13    0.401754\n",
      "2022-09-14    1.378429\n",
      "2022-09-15    0.185597\n",
      "Freq: D, Name: A, dtype: float64\n"
     ]
    }
   ],
   "source": [
    "print('La columna A del df es: \\n',df2['A'])"
   ]
  },
  {
   "cell_type": "code",
   "execution_count": 33,
   "id": "46f51365",
   "metadata": {},
   "outputs": [
    {
     "name": "stdout",
     "output_type": "stream",
     "text": [
      "Los renglones 1 a 3 del df son: \n",
      "                    A         B         C         D\n",
      "2022-09-10 -0.632851 -0.957834 -0.718318  0.047158\n",
      "2022-09-11 -1.364985 -0.777088  1.134519  0.713294\n",
      "2022-09-12 -0.864664 -1.546288 -0.695260 -0.343931\n"
     ]
    }
   ],
   "source": [
    "print('Los renglones 1 a 3 del df son: \\n',df2[0:3])"
   ]
  },
  {
   "cell_type": "code",
   "execution_count": 34,
   "id": "43f32510",
   "metadata": {},
   "outputs": [
    {
     "name": "stdout",
     "output_type": "stream",
     "text": [
      "Los renglones 1 a 3 del df son: \n",
      "                    A         B         C         D\n",
      "2022-09-10 -0.632851 -0.957834 -0.718318  0.047158\n",
      "2022-09-11 -1.364985 -0.777088  1.134519  0.713294\n",
      "2022-09-12 -0.864664 -1.546288 -0.695260 -0.343931\n"
     ]
    }
   ],
   "source": [
    "#podemos hacer lo mismo que en la celda anterior\n",
    "#pero en vez de buscar por el número de posición en python\n",
    "#podemos buscar por el nombre de índice que tiene pandas.\n",
    "print('Los renglones 1 a 3 del df son: \\n',df2['20220910':'20220912'])"
   ]
  },
  {
   "cell_type": "code",
   "execution_count": 35,
   "id": "0cc603e7",
   "metadata": {},
   "outputs": [
    {
     "name": "stdout",
     "output_type": "stream",
     "text": [
      "Seleccionando solo las columnas A y B del df\n"
     ]
    },
    {
     "data": {
      "text/html": [
       "<div>\n",
       "<style scoped>\n",
       "    .dataframe tbody tr th:only-of-type {\n",
       "        vertical-align: middle;\n",
       "    }\n",
       "\n",
       "    .dataframe tbody tr th {\n",
       "        vertical-align: top;\n",
       "    }\n",
       "\n",
       "    .dataframe thead th {\n",
       "        text-align: right;\n",
       "    }\n",
       "</style>\n",
       "<table border=\"1\" class=\"dataframe\">\n",
       "  <thead>\n",
       "    <tr style=\"text-align: right;\">\n",
       "      <th></th>\n",
       "      <th>A</th>\n",
       "      <th>B</th>\n",
       "    </tr>\n",
       "  </thead>\n",
       "  <tbody>\n",
       "    <tr>\n",
       "      <th>2022-09-10</th>\n",
       "      <td>-0.632851</td>\n",
       "      <td>-0.957834</td>\n",
       "    </tr>\n",
       "    <tr>\n",
       "      <th>2022-09-11</th>\n",
       "      <td>-1.364985</td>\n",
       "      <td>-0.777088</td>\n",
       "    </tr>\n",
       "    <tr>\n",
       "      <th>2022-09-12</th>\n",
       "      <td>-0.864664</td>\n",
       "      <td>-1.546288</td>\n",
       "    </tr>\n",
       "    <tr>\n",
       "      <th>2022-09-13</th>\n",
       "      <td>0.401754</td>\n",
       "      <td>0.770132</td>\n",
       "    </tr>\n",
       "    <tr>\n",
       "      <th>2022-09-14</th>\n",
       "      <td>1.378429</td>\n",
       "      <td>-0.415945</td>\n",
       "    </tr>\n",
       "    <tr>\n",
       "      <th>2022-09-15</th>\n",
       "      <td>0.185597</td>\n",
       "      <td>1.881435</td>\n",
       "    </tr>\n",
       "  </tbody>\n",
       "</table>\n",
       "</div>"
      ],
      "text/plain": [
       "                   A         B\n",
       "2022-09-10 -0.632851 -0.957834\n",
       "2022-09-11 -1.364985 -0.777088\n",
       "2022-09-12 -0.864664 -1.546288\n",
       "2022-09-13  0.401754  0.770132\n",
       "2022-09-14  1.378429 -0.415945\n",
       "2022-09-15  0.185597  1.881435"
      ]
     },
     "execution_count": 35,
     "metadata": {},
     "output_type": "execute_result"
    }
   ],
   "source": [
    "#podemos seleccionar solo ciertas columnas del df\n",
    "print('Seleccionando solo las columnas A y B del df')\n",
    "df2.loc[:,['A','B']]"
   ]
  },
  {
   "cell_type": "code",
   "execution_count": 36,
   "id": "6f233638",
   "metadata": {},
   "outputs": [
    {
     "name": "stdout",
     "output_type": "stream",
     "text": [
      "El renglón número 4 es:\n",
      " A    0.401754\n",
      "B    0.770132\n",
      "C    0.862895\n",
      "D   -0.403411\n",
      "Name: 2022-09-13 00:00:00, dtype: float64\n"
     ]
    }
   ],
   "source": [
    "#También podemos seleccionar un renglón mediante iloc\n",
    "print('El renglón número 4 es:\\n',df2.iloc[3])"
   ]
  },
  {
   "cell_type": "code",
   "execution_count": 37,
   "id": "880d0b46",
   "metadata": {},
   "outputs": [
    {
     "name": "stdout",
     "output_type": "stream",
     "text": [
      "Los valores que son mayores a 0.2 en el df son:\n"
     ]
    },
    {
     "data": {
      "text/html": [
       "<div>\n",
       "<style scoped>\n",
       "    .dataframe tbody tr th:only-of-type {\n",
       "        vertical-align: middle;\n",
       "    }\n",
       "\n",
       "    .dataframe tbody tr th {\n",
       "        vertical-align: top;\n",
       "    }\n",
       "\n",
       "    .dataframe thead th {\n",
       "        text-align: right;\n",
       "    }\n",
       "</style>\n",
       "<table border=\"1\" class=\"dataframe\">\n",
       "  <thead>\n",
       "    <tr style=\"text-align: right;\">\n",
       "      <th></th>\n",
       "      <th>A</th>\n",
       "      <th>B</th>\n",
       "      <th>C</th>\n",
       "      <th>D</th>\n",
       "    </tr>\n",
       "  </thead>\n",
       "  <tbody>\n",
       "    <tr>\n",
       "      <th>2022-09-10</th>\n",
       "      <td>NaN</td>\n",
       "      <td>NaN</td>\n",
       "      <td>NaN</td>\n",
       "      <td>NaN</td>\n",
       "    </tr>\n",
       "    <tr>\n",
       "      <th>2022-09-11</th>\n",
       "      <td>NaN</td>\n",
       "      <td>NaN</td>\n",
       "      <td>1.134519</td>\n",
       "      <td>0.713294</td>\n",
       "    </tr>\n",
       "    <tr>\n",
       "      <th>2022-09-12</th>\n",
       "      <td>NaN</td>\n",
       "      <td>NaN</td>\n",
       "      <td>NaN</td>\n",
       "      <td>NaN</td>\n",
       "    </tr>\n",
       "    <tr>\n",
       "      <th>2022-09-13</th>\n",
       "      <td>0.401754</td>\n",
       "      <td>0.770132</td>\n",
       "      <td>0.862895</td>\n",
       "      <td>NaN</td>\n",
       "    </tr>\n",
       "    <tr>\n",
       "      <th>2022-09-14</th>\n",
       "      <td>1.378429</td>\n",
       "      <td>NaN</td>\n",
       "      <td>1.483630</td>\n",
       "      <td>0.470882</td>\n",
       "    </tr>\n",
       "    <tr>\n",
       "      <th>2022-09-15</th>\n",
       "      <td>NaN</td>\n",
       "      <td>1.881435</td>\n",
       "      <td>NaN</td>\n",
       "      <td>NaN</td>\n",
       "    </tr>\n",
       "  </tbody>\n",
       "</table>\n",
       "</div>"
      ],
      "text/plain": [
       "                   A         B         C         D\n",
       "2022-09-10       NaN       NaN       NaN       NaN\n",
       "2022-09-11       NaN       NaN  1.134519  0.713294\n",
       "2022-09-12       NaN       NaN       NaN       NaN\n",
       "2022-09-13  0.401754  0.770132  0.862895       NaN\n",
       "2022-09-14  1.378429       NaN  1.483630  0.470882\n",
       "2022-09-15       NaN  1.881435       NaN       NaN"
      ]
     },
     "execution_count": 37,
     "metadata": {},
     "output_type": "execute_result"
    }
   ],
   "source": [
    "#podemos filtrar datos en un df por medio de condiciones (booleanos)\n",
    "#los valores que no cumplan con la condición se reemplazan por NaN\n",
    "print('Los valores que son mayores a 0.2 en el df son:')\n",
    "df2[df2>0.2]"
   ]
  },
  {
   "cell_type": "code",
   "execution_count": 38,
   "id": "0693a672",
   "metadata": {},
   "outputs": [
    {
     "data": {
      "text/html": [
       "<div>\n",
       "<style scoped>\n",
       "    .dataframe tbody tr th:only-of-type {\n",
       "        vertical-align: middle;\n",
       "    }\n",
       "\n",
       "    .dataframe tbody tr th {\n",
       "        vertical-align: top;\n",
       "    }\n",
       "\n",
       "    .dataframe thead th {\n",
       "        text-align: right;\n",
       "    }\n",
       "</style>\n",
       "<table border=\"1\" class=\"dataframe\">\n",
       "  <thead>\n",
       "    <tr style=\"text-align: right;\">\n",
       "      <th></th>\n",
       "      <th>A</th>\n",
       "      <th>B</th>\n",
       "      <th>C</th>\n",
       "      <th>D</th>\n",
       "      <th>E</th>\n",
       "    </tr>\n",
       "  </thead>\n",
       "  <tbody>\n",
       "    <tr>\n",
       "      <th>2022-09-10</th>\n",
       "      <td>-0.632851</td>\n",
       "      <td>-0.957834</td>\n",
       "      <td>-0.718318</td>\n",
       "      <td>0.047158</td>\n",
       "      <td>uno</td>\n",
       "    </tr>\n",
       "    <tr>\n",
       "      <th>2022-09-11</th>\n",
       "      <td>-1.364985</td>\n",
       "      <td>-0.777088</td>\n",
       "      <td>1.134519</td>\n",
       "      <td>0.713294</td>\n",
       "      <td>dos</td>\n",
       "    </tr>\n",
       "    <tr>\n",
       "      <th>2022-09-12</th>\n",
       "      <td>-0.864664</td>\n",
       "      <td>-1.546288</td>\n",
       "      <td>-0.695260</td>\n",
       "      <td>-0.343931</td>\n",
       "      <td>dos</td>\n",
       "    </tr>\n",
       "    <tr>\n",
       "      <th>2022-09-13</th>\n",
       "      <td>0.401754</td>\n",
       "      <td>0.770132</td>\n",
       "      <td>0.862895</td>\n",
       "      <td>-0.403411</td>\n",
       "      <td>tres</td>\n",
       "    </tr>\n",
       "    <tr>\n",
       "      <th>2022-09-14</th>\n",
       "      <td>1.378429</td>\n",
       "      <td>-0.415945</td>\n",
       "      <td>1.483630</td>\n",
       "      <td>0.470882</td>\n",
       "      <td>cuatro</td>\n",
       "    </tr>\n",
       "    <tr>\n",
       "      <th>2022-09-15</th>\n",
       "      <td>0.185597</td>\n",
       "      <td>1.881435</td>\n",
       "      <td>0.039438</td>\n",
       "      <td>-0.861685</td>\n",
       "      <td>cinco</td>\n",
       "    </tr>\n",
       "  </tbody>\n",
       "</table>\n",
       "</div>"
      ],
      "text/plain": [
       "                   A         B         C         D       E\n",
       "2022-09-10 -0.632851 -0.957834 -0.718318  0.047158     uno\n",
       "2022-09-11 -1.364985 -0.777088  1.134519  0.713294     dos\n",
       "2022-09-12 -0.864664 -1.546288 -0.695260 -0.343931     dos\n",
       "2022-09-13  0.401754  0.770132  0.862895 -0.403411    tres\n",
       "2022-09-14  1.378429 -0.415945  1.483630  0.470882  cuatro\n",
       "2022-09-15  0.185597  1.881435  0.039438 -0.861685   cinco"
      ]
     },
     "execution_count": 38,
     "metadata": {},
     "output_type": "execute_result"
    }
   ],
   "source": [
    "#podemos hacer una copia de un df mediante copy\n",
    "df3=df2.copy()\n",
    "#podemos agregar una columna nueva simplemente definiendola:\n",
    "df3['E']=['uno','dos','dos','tres','cuatro','cinco']\n",
    "df3"
   ]
  },
  {
   "cell_type": "code",
   "execution_count": 39,
   "id": "0187c37e",
   "metadata": {},
   "outputs": [
    {
     "data": {
      "text/html": [
       "<div>\n",
       "<style scoped>\n",
       "    .dataframe tbody tr th:only-of-type {\n",
       "        vertical-align: middle;\n",
       "    }\n",
       "\n",
       "    .dataframe tbody tr th {\n",
       "        vertical-align: top;\n",
       "    }\n",
       "\n",
       "    .dataframe thead th {\n",
       "        text-align: right;\n",
       "    }\n",
       "</style>\n",
       "<table border=\"1\" class=\"dataframe\">\n",
       "  <thead>\n",
       "    <tr style=\"text-align: right;\">\n",
       "      <th></th>\n",
       "      <th>A</th>\n",
       "      <th>B</th>\n",
       "      <th>C</th>\n",
       "      <th>D</th>\n",
       "      <th>E</th>\n",
       "    </tr>\n",
       "  </thead>\n",
       "  <tbody>\n",
       "    <tr>\n",
       "      <th>2022-09-11</th>\n",
       "      <td>-1.364985</td>\n",
       "      <td>-0.777088</td>\n",
       "      <td>1.134519</td>\n",
       "      <td>0.713294</td>\n",
       "      <td>dos</td>\n",
       "    </tr>\n",
       "    <tr>\n",
       "      <th>2022-09-12</th>\n",
       "      <td>-0.864664</td>\n",
       "      <td>-1.546288</td>\n",
       "      <td>-0.695260</td>\n",
       "      <td>-0.343931</td>\n",
       "      <td>dos</td>\n",
       "    </tr>\n",
       "    <tr>\n",
       "      <th>2022-09-14</th>\n",
       "      <td>1.378429</td>\n",
       "      <td>-0.415945</td>\n",
       "      <td>1.483630</td>\n",
       "      <td>0.470882</td>\n",
       "      <td>cuatro</td>\n",
       "    </tr>\n",
       "  </tbody>\n",
       "</table>\n",
       "</div>"
      ],
      "text/plain": [
       "                   A         B         C         D       E\n",
       "2022-09-11 -1.364985 -0.777088  1.134519  0.713294     dos\n",
       "2022-09-12 -0.864664 -1.546288 -0.695260 -0.343931     dos\n",
       "2022-09-14  1.378429 -0.415945  1.483630  0.470882  cuatro"
      ]
     },
     "execution_count": 39,
     "metadata": {},
     "output_type": "execute_result"
    }
   ],
   "source": [
    "#podemos filtrar datos por medio de uno o más datos en alguna columna\n",
    "df3[df3['E'].isin(['dos','cuatro'])]"
   ]
  },
  {
   "cell_type": "markdown",
   "id": "a225f00b",
   "metadata": {},
   "source": [
    "<a id='12_3'></a>\n",
    "## 12.3 Valores vacíos (NaN) "
   ]
  },
  {
   "cell_type": "code",
   "execution_count": 40,
   "id": "f47b03ee",
   "metadata": {},
   "outputs": [
    {
     "data": {
      "text/html": [
       "<div>\n",
       "<style scoped>\n",
       "    .dataframe tbody tr th:only-of-type {\n",
       "        vertical-align: middle;\n",
       "    }\n",
       "\n",
       "    .dataframe tbody tr th {\n",
       "        vertical-align: top;\n",
       "    }\n",
       "\n",
       "    .dataframe thead th {\n",
       "        text-align: right;\n",
       "    }\n",
       "</style>\n",
       "<table border=\"1\" class=\"dataframe\">\n",
       "  <thead>\n",
       "    <tr style=\"text-align: right;\">\n",
       "      <th></th>\n",
       "      <th>num_legs</th>\n",
       "      <th>num_wings</th>\n",
       "      <th>num_specimen_seen</th>\n",
       "    </tr>\n",
       "  </thead>\n",
       "  <tbody>\n",
       "    <tr>\n",
       "      <th>falcon</th>\n",
       "      <td>2.0</td>\n",
       "      <td>2</td>\n",
       "      <td>10.0</td>\n",
       "    </tr>\n",
       "    <tr>\n",
       "      <th>dog</th>\n",
       "      <td>4.0</td>\n",
       "      <td>0</td>\n",
       "      <td>NaN</td>\n",
       "    </tr>\n",
       "    <tr>\n",
       "      <th>spider</th>\n",
       "      <td>NaN</td>\n",
       "      <td>0</td>\n",
       "      <td>1.0</td>\n",
       "    </tr>\n",
       "    <tr>\n",
       "      <th>fish</th>\n",
       "      <td>0.0</td>\n",
       "      <td>0</td>\n",
       "      <td>8.0</td>\n",
       "    </tr>\n",
       "  </tbody>\n",
       "</table>\n",
       "</div>"
      ],
      "text/plain": [
       "        num_legs  num_wings  num_specimen_seen\n",
       "falcon       2.0          2               10.0\n",
       "dog          4.0          0                NaN\n",
       "spider       NaN          0                1.0\n",
       "fish         0.0          0                8.0"
      ]
     },
     "execution_count": 40,
     "metadata": {},
     "output_type": "execute_result"
    }
   ],
   "source": [
    "#usamos el siguiente df con valores vacíos de NumPy:\n",
    "df = pd.DataFrame({'num_legs': [2, 4, np.nan, 0],\n",
    "                   'num_wings': [2, 0, 0, 0],\n",
    "                   'num_specimen_seen': [10, np.nan, 1, 8]},\n",
    "                   index=['falcon', 'dog', 'spider', 'fish'])\n",
    "df"
   ]
  },
  {
   "cell_type": "code",
   "execution_count": 41,
   "id": "1571c1c4",
   "metadata": {},
   "outputs": [
    {
     "name": "stdout",
     "output_type": "stream",
     "text": [
      "Las filas que NO CONTIENEN valores vacíos son: \n"
     ]
    },
    {
     "data": {
      "text/html": [
       "<div>\n",
       "<style scoped>\n",
       "    .dataframe tbody tr th:only-of-type {\n",
       "        vertical-align: middle;\n",
       "    }\n",
       "\n",
       "    .dataframe tbody tr th {\n",
       "        vertical-align: top;\n",
       "    }\n",
       "\n",
       "    .dataframe thead th {\n",
       "        text-align: right;\n",
       "    }\n",
       "</style>\n",
       "<table border=\"1\" class=\"dataframe\">\n",
       "  <thead>\n",
       "    <tr style=\"text-align: right;\">\n",
       "      <th></th>\n",
       "      <th>num_legs</th>\n",
       "      <th>num_wings</th>\n",
       "      <th>num_specimen_seen</th>\n",
       "    </tr>\n",
       "  </thead>\n",
       "  <tbody>\n",
       "    <tr>\n",
       "      <th>falcon</th>\n",
       "      <td>2.0</td>\n",
       "      <td>2</td>\n",
       "      <td>10.0</td>\n",
       "    </tr>\n",
       "    <tr>\n",
       "      <th>fish</th>\n",
       "      <td>0.0</td>\n",
       "      <td>0</td>\n",
       "      <td>8.0</td>\n",
       "    </tr>\n",
       "  </tbody>\n",
       "</table>\n",
       "</div>"
      ],
      "text/plain": [
       "        num_legs  num_wings  num_specimen_seen\n",
       "falcon       2.0          2               10.0\n",
       "fish         0.0          0                8.0"
      ]
     },
     "execution_count": 41,
     "metadata": {},
     "output_type": "execute_result"
    }
   ],
   "source": [
    "print('Las filas que NO CONTIENEN valores vacíos son: ')\n",
    "df.dropna(how='any',axis=0) #el valor predeterminado de axis es 0"
   ]
  },
  {
   "cell_type": "code",
   "execution_count": 42,
   "id": "254f62fb",
   "metadata": {},
   "outputs": [
    {
     "name": "stdout",
     "output_type": "stream",
     "text": [
      "Las columnas que NO CONTIENEN valores vacíos son:\n"
     ]
    },
    {
     "data": {
      "text/html": [
       "<div>\n",
       "<style scoped>\n",
       "    .dataframe tbody tr th:only-of-type {\n",
       "        vertical-align: middle;\n",
       "    }\n",
       "\n",
       "    .dataframe tbody tr th {\n",
       "        vertical-align: top;\n",
       "    }\n",
       "\n",
       "    .dataframe thead th {\n",
       "        text-align: right;\n",
       "    }\n",
       "</style>\n",
       "<table border=\"1\" class=\"dataframe\">\n",
       "  <thead>\n",
       "    <tr style=\"text-align: right;\">\n",
       "      <th></th>\n",
       "      <th>num_wings</th>\n",
       "    </tr>\n",
       "  </thead>\n",
       "  <tbody>\n",
       "    <tr>\n",
       "      <th>falcon</th>\n",
       "      <td>2</td>\n",
       "    </tr>\n",
       "    <tr>\n",
       "      <th>dog</th>\n",
       "      <td>0</td>\n",
       "    </tr>\n",
       "    <tr>\n",
       "      <th>spider</th>\n",
       "      <td>0</td>\n",
       "    </tr>\n",
       "    <tr>\n",
       "      <th>fish</th>\n",
       "      <td>0</td>\n",
       "    </tr>\n",
       "  </tbody>\n",
       "</table>\n",
       "</div>"
      ],
      "text/plain": [
       "        num_wings\n",
       "falcon          2\n",
       "dog             0\n",
       "spider          0\n",
       "fish            0"
      ]
     },
     "execution_count": 42,
     "metadata": {},
     "output_type": "execute_result"
    }
   ],
   "source": [
    "print('Las columnas que NO CONTIENEN valores vacíos son:')\n",
    "df.dropna(how='any',axis=1)"
   ]
  },
  {
   "cell_type": "code",
   "execution_count": 43,
   "id": "746ad746",
   "metadata": {},
   "outputs": [
    {
     "name": "stdout",
     "output_type": "stream",
     "text": [
      "        num_legs  num_wings  num_specimen_seen\n",
      "falcon       2.0          2               10.0\n",
      "dog          4.0          0                0.5\n",
      "spider       0.5          0                1.0\n",
      "fish         0.0          0                8.0 \n",
      "\n",
      "En este caso el valor que reemplazo a los NaN fue el promedio de la columna num_wings (2/4)=0.5\n"
     ]
    }
   ],
   "source": [
    "#Podemos reemplazar NaN por algún valor constante con fillna\n",
    "print(df.fillna(value=df['num_wings'].mean()),'\\n')\n",
    "print('En este caso el valor que reemplazo a los NaN fue el promedio de la columna num_wings (2/4)=0.5')"
   ]
  },
  {
   "cell_type": "code",
   "execution_count": 44,
   "id": "4323f3a2",
   "metadata": {},
   "outputs": [
    {
     "data": {
      "text/html": [
       "<div>\n",
       "<style scoped>\n",
       "    .dataframe tbody tr th:only-of-type {\n",
       "        vertical-align: middle;\n",
       "    }\n",
       "\n",
       "    .dataframe tbody tr th {\n",
       "        vertical-align: top;\n",
       "    }\n",
       "\n",
       "    .dataframe thead th {\n",
       "        text-align: right;\n",
       "    }\n",
       "</style>\n",
       "<table border=\"1\" class=\"dataframe\">\n",
       "  <thead>\n",
       "    <tr style=\"text-align: right;\">\n",
       "      <th></th>\n",
       "      <th>num_legs</th>\n",
       "      <th>num_wings</th>\n",
       "      <th>num_specimen_seen</th>\n",
       "    </tr>\n",
       "  </thead>\n",
       "  <tbody>\n",
       "    <tr>\n",
       "      <th>falcon</th>\n",
       "      <td>False</td>\n",
       "      <td>False</td>\n",
       "      <td>False</td>\n",
       "    </tr>\n",
       "    <tr>\n",
       "      <th>dog</th>\n",
       "      <td>False</td>\n",
       "      <td>False</td>\n",
       "      <td>True</td>\n",
       "    </tr>\n",
       "    <tr>\n",
       "      <th>spider</th>\n",
       "      <td>True</td>\n",
       "      <td>False</td>\n",
       "      <td>False</td>\n",
       "    </tr>\n",
       "    <tr>\n",
       "      <th>fish</th>\n",
       "      <td>False</td>\n",
       "      <td>False</td>\n",
       "      <td>False</td>\n",
       "    </tr>\n",
       "  </tbody>\n",
       "</table>\n",
       "</div>"
      ],
      "text/plain": [
       "        num_legs  num_wings  num_specimen_seen\n",
       "falcon     False      False              False\n",
       "dog        False      False               True\n",
       "spider      True      False              False\n",
       "fish       False      False              False"
      ]
     },
     "execution_count": 44,
     "metadata": {},
     "output_type": "execute_result"
    }
   ],
   "source": [
    "#Podemos ver en forma booleana los elementos que cumplen ser elementos NaN\n",
    "pd.isna(df)"
   ]
  },
  {
   "cell_type": "markdown",
   "id": "b72263ca",
   "metadata": {},
   "source": [
    "<a id='12_4'></a>\n",
    "## 12.4 Manejo de archivos"
   ]
  },
  {
   "cell_type": "code",
   "execution_count": 45,
   "id": "e561a1f4",
   "metadata": {},
   "outputs": [
    {
     "data": {
      "text/html": [
       "<div>\n",
       "<style scoped>\n",
       "    .dataframe tbody tr th:only-of-type {\n",
       "        vertical-align: middle;\n",
       "    }\n",
       "\n",
       "    .dataframe tbody tr th {\n",
       "        vertical-align: top;\n",
       "    }\n",
       "\n",
       "    .dataframe thead th {\n",
       "        text-align: right;\n",
       "    }\n",
       "</style>\n",
       "<table border=\"1\" class=\"dataframe\">\n",
       "  <thead>\n",
       "    <tr style=\"text-align: right;\">\n",
       "      <th></th>\n",
       "      <th>num_legs</th>\n",
       "      <th>num_wings</th>\n",
       "      <th>num_specimen_seen</th>\n",
       "    </tr>\n",
       "  </thead>\n",
       "  <tbody>\n",
       "    <tr>\n",
       "      <th>falcon</th>\n",
       "      <td>2.0</td>\n",
       "      <td>2</td>\n",
       "      <td>10.0</td>\n",
       "    </tr>\n",
       "    <tr>\n",
       "      <th>dog</th>\n",
       "      <td>4.0</td>\n",
       "      <td>0</td>\n",
       "      <td>NaN</td>\n",
       "    </tr>\n",
       "    <tr>\n",
       "      <th>spider</th>\n",
       "      <td>NaN</td>\n",
       "      <td>0</td>\n",
       "      <td>1.0</td>\n",
       "    </tr>\n",
       "    <tr>\n",
       "      <th>fish</th>\n",
       "      <td>0.0</td>\n",
       "      <td>0</td>\n",
       "      <td>8.0</td>\n",
       "    </tr>\n",
       "  </tbody>\n",
       "</table>\n",
       "</div>"
      ],
      "text/plain": [
       "        num_legs  num_wings  num_specimen_seen\n",
       "falcon       2.0          2               10.0\n",
       "dog          4.0          0                NaN\n",
       "spider       NaN          0                1.0\n",
       "fish         0.0          0                8.0"
      ]
     },
     "execution_count": 45,
     "metadata": {},
     "output_type": "execute_result"
    }
   ],
   "source": [
    "#Usamos el df de hace un momento \n",
    "df = pd.DataFrame({'num_legs': [2, 4, np.nan, 0],\n",
    "                   'num_wings': [2, 0, 0, 0],\n",
    "                   'num_specimen_seen': [10, np.nan, 1, 8]},\n",
    "                   index=['falcon', 'dog', 'spider', 'fish'])\n",
    "df"
   ]
  },
  {
   "cell_type": "code",
   "execution_count": null,
   "id": "a8d473be",
   "metadata": {},
   "outputs": [],
   "source": [
    "#Podemos exportar e importar de diferentes tipos de archivos:\n",
    "\n",
    "df.to_csv('df.csv') #exporta el df a un archivo CSV\n",
    "df.read_csv('df.csv') #importa el df de un archivo CSV\n",
    "\n",
    "df.to_excel('df.xlsx',sheet_name='Hoja1') #Exporta el df a un archivo Excel\n",
    "df.read_excel('df.xlsx','Hoja1',index_col = None, na_values=['NA']) #Importa el df de un archivo Excel\n",
    "\n",
    "#En este último caso hay que especificar el nombre que tienen los valores vacíos que comunmente en Excel son 'NA'"
   ]
  },
  {
   "cell_type": "markdown",
   "id": "167449e8",
   "metadata": {},
   "source": [
    "<a id='12_5'></a>\n",
    "## 12.5 Visualización gráfica"
   ]
  },
  {
   "cell_type": "code",
   "execution_count": 46,
   "id": "9f2d446c",
   "metadata": {},
   "outputs": [],
   "source": [
    "#Usamos la librería matplotlib\n",
    "from matplotlib import pyplot as plt"
   ]
  },
  {
   "cell_type": "code",
   "execution_count": 47,
   "id": "12af0945",
   "metadata": {},
   "outputs": [
    {
     "data": {
      "text/plain": [
       "2000-01-01   -0.408561\n",
       "2000-01-02    0.215071\n",
       "2000-01-03    0.929952\n",
       "2000-01-04    0.717575\n",
       "2000-01-05   -0.428002\n",
       "                ...   \n",
       "2002-09-22    0.480111\n",
       "2002-09-23   -1.569414\n",
       "2002-09-24    1.666056\n",
       "2002-09-25    0.694089\n",
       "2002-09-26    0.178883\n",
       "Freq: D, Length: 1000, dtype: float64"
      ]
     },
     "execution_count": 47,
     "metadata": {},
     "output_type": "execute_result"
    }
   ],
   "source": [
    "#Podemos generar una serie de tiempo aleatoria\n",
    "ts = pd.Series(np.random.randn(1000),index=pd.date_range('1/1/2000', periods=1000)) \n",
    "ts"
   ]
  },
  {
   "cell_type": "code",
   "execution_count": 48,
   "id": "5baabb84",
   "metadata": {},
   "outputs": [
    {
     "data": {
      "image/png": "[encoded data removed]",
      "text/plain": [
       "<Figure size 432x288 with 1 Axes>"
      ]
     },
     "metadata": {
      "needs_background": "light"
     },
     "output_type": "display_data"
    }
   ],
   "source": [
    "ts=ts.cumsum()\n",
    "ts.plot() # Graficamos con el atributo plot()\n",
    "plt.show() #Mostramos en pantalla con show()"
   ]
  },
  {
   "cell_type": "code",
   "execution_count": 49,
   "id": "ba30607c",
   "metadata": {},
   "outputs": [
    {
     "data": {
      "text/html": [
       "<div>\n",
       "<style scoped>\n",
       "    .dataframe tbody tr th:only-of-type {\n",
       "        vertical-align: middle;\n",
       "    }\n",
       "\n",
       "    .dataframe tbody tr th {\n",
       "        vertical-align: top;\n",
       "    }\n",
       "\n",
       "    .dataframe thead th {\n",
       "        text-align: right;\n",
       "    }\n",
       "</style>\n",
       "<table border=\"1\" class=\"dataframe\">\n",
       "  <thead>\n",
       "    <tr style=\"text-align: right;\">\n",
       "      <th></th>\n",
       "      <th>A</th>\n",
       "      <th>B</th>\n",
       "      <th>C</th>\n",
       "      <th>D</th>\n",
       "    </tr>\n",
       "  </thead>\n",
       "  <tbody>\n",
       "    <tr>\n",
       "      <th>2022-09-10</th>\n",
       "      <td>0.176365</td>\n",
       "      <td>-0.236209</td>\n",
       "      <td>-0.328654</td>\n",
       "      <td>0.252885</td>\n",
       "    </tr>\n",
       "    <tr>\n",
       "      <th>2022-09-11</th>\n",
       "      <td>1.414882</td>\n",
       "      <td>0.224339</td>\n",
       "      <td>0.649749</td>\n",
       "      <td>-0.203341</td>\n",
       "    </tr>\n",
       "    <tr>\n",
       "      <th>2022-09-12</th>\n",
       "      <td>1.126951</td>\n",
       "      <td>0.775197</td>\n",
       "      <td>-1.414241</td>\n",
       "      <td>-0.495930</td>\n",
       "    </tr>\n",
       "    <tr>\n",
       "      <th>2022-09-13</th>\n",
       "      <td>0.103916</td>\n",
       "      <td>1.380259</td>\n",
       "      <td>1.774463</td>\n",
       "      <td>-0.962188</td>\n",
       "    </tr>\n",
       "    <tr>\n",
       "      <th>2022-09-14</th>\n",
       "      <td>-1.047174</td>\n",
       "      <td>-0.388411</td>\n",
       "      <td>0.837878</td>\n",
       "      <td>-0.797950</td>\n",
       "    </tr>\n",
       "    <tr>\n",
       "      <th>...</th>\n",
       "      <td>...</td>\n",
       "      <td>...</td>\n",
       "      <td>...</td>\n",
       "      <td>...</td>\n",
       "    </tr>\n",
       "    <tr>\n",
       "      <th>2025-06-01</th>\n",
       "      <td>-0.418040</td>\n",
       "      <td>-0.449156</td>\n",
       "      <td>1.691026</td>\n",
       "      <td>-0.597916</td>\n",
       "    </tr>\n",
       "    <tr>\n",
       "      <th>2025-06-02</th>\n",
       "      <td>-0.792815</td>\n",
       "      <td>0.178168</td>\n",
       "      <td>-0.018217</td>\n",
       "      <td>0.345185</td>\n",
       "    </tr>\n",
       "    <tr>\n",
       "      <th>2025-06-03</th>\n",
       "      <td>0.018949</td>\n",
       "      <td>-0.752162</td>\n",
       "      <td>0.206235</td>\n",
       "      <td>-1.335484</td>\n",
       "    </tr>\n",
       "    <tr>\n",
       "      <th>2025-06-04</th>\n",
       "      <td>-2.129531</td>\n",
       "      <td>-0.891171</td>\n",
       "      <td>0.175327</td>\n",
       "      <td>0.630310</td>\n",
       "    </tr>\n",
       "    <tr>\n",
       "      <th>2025-06-05</th>\n",
       "      <td>0.140977</td>\n",
       "      <td>1.872660</td>\n",
       "      <td>-1.289497</td>\n",
       "      <td>2.244838</td>\n",
       "    </tr>\n",
       "  </tbody>\n",
       "</table>\n",
       "<p>1000 rows × 4 columns</p>\n",
       "</div>"
      ],
      "text/plain": [
       "                   A         B         C         D\n",
       "2022-09-10  0.176365 -0.236209 -0.328654  0.252885\n",
       "2022-09-11  1.414882  0.224339  0.649749 -0.203341\n",
       "2022-09-12  1.126951  0.775197 -1.414241 -0.495930\n",
       "2022-09-13  0.103916  1.380259  1.774463 -0.962188\n",
       "2022-09-14 -1.047174 -0.388411  0.837878 -0.797950\n",
       "...              ...       ...       ...       ...\n",
       "2025-06-01 -0.418040 -0.449156  1.691026 -0.597916\n",
       "2025-06-02 -0.792815  0.178168 -0.018217  0.345185\n",
       "2025-06-03  0.018949 -0.752162  0.206235 -1.335484\n",
       "2025-06-04 -2.129531 -0.891171  0.175327  0.630310\n",
       "2025-06-05  0.140977  1.872660 -1.289497  2.244838\n",
       "\n",
       "[1000 rows x 4 columns]"
      ]
     },
     "execution_count": 49,
     "metadata": {},
     "output_type": "execute_result"
    }
   ],
   "source": [
    "#También podemos graficar los valores de un df\n",
    "#se grafican n gráficas en un mismo plano\n",
    "# en dónde se asocian las coordenadas x_i=índice, y_i=df[indice,columna_i]\n",
    "\n",
    "#En este caso hacemos una modificación al df2 que teníamos en la sección anterior\n",
    "#pero ahora con 1000 datos por columna\n",
    "\n",
    "df=pd.date_range('20220910',periods=1000)\n",
    "x=np.random.randn(1000,4) # Es un arreglo de 6 filas y 4 columnas\n",
    "df=pd.DataFrame(x,index=df,columns=['A','B','C','D']) \n",
    "df"
   ]
  },
  {
   "cell_type": "code",
   "execution_count": 50,
   "id": "d5f1f099",
   "metadata": {},
   "outputs": [
    {
     "data": {
      "image/png": "[encoded data removed]",
      "text/plain": [
       "<Figure size 432x288 with 1 Axes>"
      ]
     },
     "metadata": {
      "needs_background": "light"
     },
     "output_type": "display_data"
    }
   ],
   "source": [
    "#Usamos el atributo cumsum() para sumar de forma recursiva los valores por columna\n",
    "#esto es para que las diferentes graficas se vean separadas (pues son datos aleatorios y se ven revueltos)\n",
    "df=df.cumsum()\n",
    "#Finalmente graficamos el df\n",
    "df.plot()\n",
    "plt.show()"
   ]
  }
 ],
 "metadata": {
  "kernelspec": {
   "display_name": "Python 3 (ipykernel)",
   "language": "python",
   "name": "python3"
  },
  "language_info": {
   "codemirror_mode": {
    "name": "ipython",
    "version": 3
   },
   "file_extension": ".py",
   "mimetype": "text/x-python",
   "name": "python",
   "nbconvert_exporter": "python",
   "pygments_lexer": "ipython3",
   "version": "3.9.7"
  }
 },
 "nbformat": 4,
 "nbformat_minor": 5
}
